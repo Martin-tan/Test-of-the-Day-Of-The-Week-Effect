{
 "cells": [
  {
   "cell_type": "code",
   "execution_count": 1,
   "metadata": {},
   "outputs": [],
   "source": [
    "# pip install seaborn sklearn scipy matplotlib yellowbrick statsmodels pandas_datareader"
   ]
  },
  {
   "cell_type": "code",
   "execution_count": 2,
   "metadata": {
    "scrolled": true
   },
   "outputs": [
    {
     "name": "stderr",
     "output_type": "stream",
     "text": [
      "C:\\Users\\86188\\Anaconda3\\lib\\site-packages\\sklearn\\utils\\deprecation.py:144: FutureWarning: The sklearn.metrics.classification module is  deprecated in version 0.22 and will be removed in version 0.24. The corresponding classes / functions should instead be imported from sklearn.metrics. Anything that cannot be imported from sklearn.metrics is now part of the private API.\n",
      "  warnings.warn(message, FutureWarning)\n"
     ]
    }
   ],
   "source": [
    "from sklearn import *\n",
    "from ipywidgets import *\n",
    "from decimal import Decimal\n",
    "from matplotlib import style\n",
    "from scipy.stats import f, chi2, t, norm\n",
    "from yellowbrick.regressor import ResidualsPlot\n",
    "import pandas_datareader.data as web\n",
    "import matplotlib.pyplot as plt\n",
    "import statsmodels.api as sm\n",
    "import seaborn as sns\n",
    "import datetime as dt\n",
    "import pandas as pd\n",
    "import numpy as np\n",
    "import math\n",
    "from sklearn.metrics import mean_squared_error, r2_score\n",
    "class color:\n",
    "   PURPLE = '\\033[95m'\n",
    "   CYAN = '\\033[96m'\n",
    "   DARKCYAN = '\\033[36m'\n",
    "   BLUE = '\\033[94m'\n",
    "   GREEN = '\\033[92m'\n",
    "   YELLOW = '\\033[93m'\n",
    "   RED = '\\033[91m'\n",
    "   BOLD = '\\033[1m'\n",
    "   UNDERLINE = '\\033[4m'\n",
    "   END = '\\033[0m'\n",
    "\n",
    "# ticker symbols\n",
    "ts = {'^DJI': 'Dow Jones Industrial Average (U.S.)',\n",
    "      '^GSPC': 'S&P 500 (U.S.)',\n",
    "      '^IXIC': 'NASDAQ Composite (U.S.)',\n",
    "      '000001.SS': 'SSE Composite Index (China)',\n",
    "      '^HSI': 'HANG SENG INDEX (China)',\n",
    "      '^N225': 'Nikkei 225 (Japan)',\n",
    "      '^GSPTSE': 'S&P/TSX Composite index (Canada)',\n",
    "      '^N100': 'EURONEXT 100 (Europe)'\n",
    "     }\n",
    "ts_ = {v:k for k,v in ts.items()}\n",
    "\n",
    "def get_log_return(symbol, start, end):\n",
    "    if start>=end:\n",
    "        raise ValueError('Invalid time period!')\n",
    "    df = web.DataReader(symbol, 'yahoo', start, end)\n",
    "    df['LogReturn'] = np.log(df['Close']/df['Open'])\n",
    "    return df['LogReturn']\n",
    "\n",
    "def mu_s_n(data) -> (int, int, int):            \n",
    "    return np.mean(data), np.var(data), len(data)\n",
    "\n",
    "def sci(n): # scientific notation\n",
    "    return '%.2E' % Decimal(n)\n",
    "    \n",
    "def draw_hist_normal(symbol, normal, logReturn, mu, s, start, end):\n",
    "    style.use('ggplot')\n",
    "    # set bin width\n",
    "    iqr=logReturn.quantile(q=0.75)-logReturn.quantile(q=0.25)\n",
    "    width=2*iqr/(float(logReturn.count())**(1/3))\n",
    "    bins_=math.ceil((float(logReturn.max())-float(logReturn.min()))/width)\n",
    "    # draw histogram\n",
    "    plt.hist([logReturn], bins=bins_, density=True, color=['steelblue'], edgecolor='white')\n",
    "    plt.ylabel(\"Frequency\")\n",
    "    plt.xlabel(\"Log-return\")\n",
    "    plt.legend([symbol])\n",
    "    plt.title(f'Log-return for {symbol} during {start.date()} to {end.date()}')\n",
    "    if normal is True:\n",
    "        # then plot normal probability\n",
    "        x=np.linspace(min(logReturn),max(logReturn),100)\n",
    "        plt.plot(x, norm.pdf(x,mu,math.sqrt(s)))\n",
    "    sm.qqplot(logReturn, line='r')\n",
    "    plt.title(f'Normal Probability Plot')\n",
    "    txt = \"Note: \" + ts[symbol]\n",
    "    plt.figtext(.5, -.05, txt, ha='center', fontsize=12)\n",
    "    plt.show()\n",
    "    \n",
    "def confidence_interval(symbol, confidence, logReturn, mu, s, n):\n",
    "    df = n - 1\n",
    "    alpha = (1 - confidence)/2\n",
    "    print(color.BOLD + \"Confidence interval for mean:\" + color.END)\n",
    "    print(color.GREEN + f\"{[sci(mu-t.ppf(1-alpha, df)*math.sqrt(s/n)), sci(mu + t.ppf(1-alpha, df)*math.sqrt(s/n))]}\" + color.END)    #different construct method if sample normal\n",
    "    print(color.BOLD + \"Confidence interval for variance:\" + color.END)\n",
    "    print(color.GREEN + f\"{[sci(df*s/chi2.ppf(1-alpha,99)),sci(df*s/chi2.ppf(alpha,99))]}\" + color.END)\n",
    "    \n",
    "    \n",
    "def test_mu_equality(symbol_1, symbol_2, mu_1, s_1, n_1, mu_2, s_2, n_2, confidence):\n",
    "    test = (mu_1-mu_2) / np.sqrt(s_1/n_1 + s_2/n_2)\n",
    "    z = -norm.ppf((1-confidence)/2)\n",
    "    print(f\"For indexes {symbol_1}, {symbol_2}:\")\n",
    "    if test>-z and test<z:\n",
    "        print(color.GREEN + f\"H0: beta1 = beta2, Do not reject H0 at the confidence level of {confidence}.\" + color.END)\n",
    "    else:\n",
    "        print(color.GREEN + f\"H0: beta1 = beta2, Reject H0 at the confidence level of {confidence}.\\n\\n\" + color.END)\n",
    "        \n",
    "# Integrated functions\n",
    "def one_stock(Symbol, start=dt.datetime(2015,11,1), end=dt.datetime(2019,11,1), normal=True, confidence=0.95):\n",
    "    if start>=end:\n",
    "        raise ValueError('Invalid time period!')\n",
    "    symbol = ts_[Symbol]\n",
    "    logReturn = get_log_return(symbol, start, end)\n",
    "    mu, s, n = mu_s_n(logReturn)\n",
    "    draw_hist_normal(symbol, normal, logReturn, mu, s, start, end)\n",
    "    print(color.BOLD + \"- Confidence interval for mean and variance:\" + color.END)\n",
    "    confidence_interval(symbol, confidence, logReturn, mu, s, n)\n",
    "    print(color.BOLD + \"\\n- Regression of the log-return on time:\\n\" + color.END)\n",
    "    y = np.array(logReturn)\n",
    "    x = np.array(list(range(len(y))))\n",
    "    x = x[:, np.newaxis]\n",
    "    X = sm.add_constant(x)\n",
    "    Y = list(logReturn)\n",
    "\n",
    "    est = sm.OLS(Y, X)\n",
    "    est2 = est.fit()\n",
    "    print(est2.summary())            \n",
    "    lrModel = linear_model.LinearRegression()       # Set up the model\n",
    "    lrModel.fit(x, y)    # Train the model\n",
    "    y_pred = lrModel.predict(x)         # Make predictions using the testing set\n",
    "    coef = lrModel.coef_\n",
    "    intercept = lrModel.intercept_\n",
    "    mse = mean_squared_error(y, y_pred)      # The mean squared error \n",
    "    r2 = r2_score(y, y_pred)        # Explained variance score: 1 is perfect prediction \n",
    "    print(color.BLUE + 'R2:' + color.END, r2)\n",
    "    print(color.BLUE + 'Coefficient:' + color.END, coef[0])\n",
    "    print(color.BLUE + 'Intercept:' + color.END, intercept)\n",
    "    \n",
    "    plt.figure()     #regression plot\n",
    "    plt.xlabel('Time')\n",
    "    plt.ylabel('Log Return')\n",
    "    plt.title('Regression Plot', color='black')\n",
    "    plt.plot(x, y,'r.') \n",
    "    plt.plot(x, y_pred, 'steelblue') \n",
    "    plt.show() \n",
    "    sns.residplot(x, y, color=\"steelblue\")  #residual plot\n",
    "    plt.title('Residual Plot', color='black') \n",
    "    plt.show()\n",
    "    \n",
    "def two_stock(Symbol_1, Symbol_2, start=dt.datetime(2015,11,1), end=dt.datetime(2019,11,1), confidence=0.95):\n",
    "    if start>=end:\n",
    "        raise ValueError('Invalid time period!')\n",
    "    symbol_1 = ts_[Symbol_1]\n",
    "    symbol_2 = ts_[Symbol_2]\n",
    "    mu_1, s_1, n_1 = mu_s_n(get_log_return(symbol_1, start, end))\n",
    "    mu_2, s_2, n_2 = mu_s_n(get_log_return(symbol_2, start, end))\n",
    "    print(color.BOLD + '\\n-Test the equality of the two population means:' + color.END)\n",
    "    test_mu_equality(symbol_1, symbol_2, mu_1, s_1, n_1, mu_2, s_2, n_2, confidence)\n",
    "    print(color.BOLD + f'\\n-Linear Regression of {Symbol_1} on {Symbol_2}\\n' + color.END)\n",
    "    logReturn_1 = get_log_return(symbol_1, start, end)\n",
    "    logReturn_2 = get_log_return(symbol_2, start, end)\n",
    "    minLen = min(len(logReturn_1), len(logReturn_2))\n",
    "    y = np.array(logReturn_2[0: minLen])\n",
    "    x = np.array(logReturn_1[0: minLen])\n",
    "    x = x[:, np.newaxis]\n",
    "    X = sm.add_constant(x)\n",
    "    Y = list(y)\n",
    "    est = sm.OLS(Y, X)\n",
    "    est2 = est.fit()\n",
    "    print(est2.summary())            \n",
    "    \n",
    "    # Set up the model\n",
    "    lrModel = linear_model.LinearRegression()\n",
    "    lrModel.fit(x, y)\n",
    "    y_pred = lrModel.predict(x)\n",
    "    coef = lrModel.coef_\n",
    "    intercept = lrModel.intercept_\n",
    "    mse = mean_squared_error(y, y_pred)\n",
    "    r2 = r2_score(y, y_pred)\n",
    "    print(color.BLUE + 'R2:' + color.END, r2)\n",
    "    print(color.BLUE + 'Coefficient:' + color.END, coef[0])\n",
    "    print(color.BLUE + 'Intercept:' + color.END, intercept)\n",
    "    \n",
    "    plt.figure()     #regression plot\n",
    "    plt.xlabel('Log Return of {symbol_1}')\n",
    "    plt.ylabel('Log Return of {symbol_2}')\n",
    "    plt.title('Regression Plot', color='black')\n",
    "    plt.plot(x, y,'r.') \n",
    "    plt.plot(x, y_pred, 'steelblue') \n",
    "    plt.show() \n",
    "    sns.residplot(x, y, color=\"steelblue\")  #residual plot\n",
    "    plt.title('residual plot', color='black') \n",
    "    plt.show()\n",
    "    \n",
    "def monday_effect(Symbol, start=dt.datetime(2015,11,1), end=dt.datetime(2019,11,1)):\n",
    "    if start>=end:\n",
    "        raise ValueError('Invalid time period!')\n",
    "    symbol = ts_[Symbol]\n",
    "    style.use('ggplot')\n",
    "    logReturn = get_log_return(symbol, start, end)\n",
    "    datelist = [i.date() for i in logReturn.index]\n",
    "    monday, friday = [], []\n",
    "    for x in datelist:\n",
    "        y=x-dt.timedelta(days=3)\n",
    "        if x.weekday()==0 and y in datelist:\n",
    "            monday.append(logReturn[x])\n",
    "            friday.append(logReturn[y])      \n",
    "            \n",
    "    X2 = sm.add_constant(friday)\n",
    "    est = sm.OLS(monday, X2)\n",
    "    est2 = est.fit()\n",
    "#     print(est2.summary())            \n",
    "    res = linear_model.LinearRegression()\n",
    "    res.fit(np.reshape(friday, [len(friday),1]), np.reshape(monday, [len(monday),1]))\n",
    "    coef = res.coef_\n",
    "    intercept = res.intercept_\n",
    "    monday_pred = res.predict(np.reshape(friday, [len(friday),1]))\n",
    "    print(color.BLUE + 'R2:' + color.END, metrics.r2_score(monday, monday_pred))\n",
    "    print(color.BLUE + 'Intercept:' + color.END, intercept[0])\n",
    "    print(color.BLUE + 'Coefficient:' + color.END, coef[0][0])\n",
    "    print(color.BLUE + 'Coefficient_pvalue:' + color.END, est2.pvalues[1])\n",
    "    if est2.pvalues[1]>0.05:\n",
    "        print(f'\\nSince the p value of beta1={round(est2.pvalues[1],3)}> 0.05, Do not reject H0: beta1 = 0.\\nThere is {color.RED}{color.BOLD}NO{color.END} significant correlation between the Friday performance and Monday performance of {Symbol}')\n",
    "    else:\n",
    "        print(f'\\nSince the p value of beta1={round(est2.pvalues[1],3)}< 0.05, Reject H0: beta1 = 0.\\nThere is {color.RED}{color.BOLD}significant{color.END} correlation between the Friday performance and Monday performance of {Symbol}')\n",
    "    \n",
    "    plt.figure()     #regression plot\n",
    "    plt.xlabel('Friday')\n",
    "    plt.ylabel('Monday')\n",
    "    plt.title('Regression Plot', color='black')\n",
    "    plt.plot(friday, monday,'r.') \n",
    "    plt.plot(friday, monday_pred, 'steelblue') \n",
    "    plt.show() \n",
    "    sns.residplot(friday, monday, color=\"steelblue\")  #residual plot\n",
    "    plt.title('Residual Plot', color='black') \n",
    "    plt.show()"
   ]
  },
  {
   "cell_type": "code",
   "execution_count": 3,
   "metadata": {
    "scrolled": false
   },
   "outputs": [
    {
     "name": "stdout",
     "output_type": "stream",
     "text": [
      "\u001b[1mGiven one stock index:\u001b[0m\n"
     ]
    },
    {
     "data": {
      "application/vnd.jupyter.widget-view+json": {
       "model_id": "76729f608f034692b7b03680413988cc",
       "version_major": 2,
       "version_minor": 0
      },
      "text/plain": [
       "interactive(children=(Dropdown(description='Symbol', options=('Dow Jones Industrial Average (U.S.)', 'S&P 500 …"
      ]
     },
     "metadata": {},
     "output_type": "display_data"
    },
    {
     "name": "stdout",
     "output_type": "stream",
     "text": [
      "\u001b[1mGiven two stock indexes:\u001b[0m\n"
     ]
    },
    {
     "data": {
      "application/vnd.jupyter.widget-view+json": {
       "model_id": "b6371077aff141bcbaad2b69600a9bb5",
       "version_major": 2,
       "version_minor": 0
      },
      "text/plain": [
       "interactive(children=(Dropdown(description='Symbol_1', options=('Dow Jones Industrial Average (U.S.)', 'S&P 50…"
      ]
     },
     "metadata": {},
     "output_type": "display_data"
    },
    {
     "name": "stdout",
     "output_type": "stream",
     "text": [
      "\u001b[1m\n",
      "Testing Monday effect\u001b[0m\n"
     ]
    },
    {
     "data": {
      "application/vnd.jupyter.widget-view+json": {
       "model_id": "65ab1a89702141c394880553032de59f",
       "version_major": 2,
       "version_minor": 0
      },
      "text/plain": [
       "interactive(children=(Dropdown(description='Symbol', options=('Dow Jones Industrial Average (U.S.)', 'S&P 500 …"
      ]
     },
     "metadata": {},
     "output_type": "display_data"
    },
    {
     "data": {
      "text/plain": [
       "<function __main__.monday_effect(Symbol, start=datetime.datetime(2015, 11, 1, 0, 0), end=datetime.datetime(2019, 11, 1, 0, 0))>"
      ]
     },
     "execution_count": 3,
     "metadata": {},
     "output_type": "execute_result"
    }
   ],
   "source": [
    "#Web App\n",
    "indexes = list(ts_.keys())\n",
    "Start, End= list(dt.datetime(i,12,1) for i in range(2015,2020)) ,list(dt.datetime(i,12,1) for i in range(2016,2020))\n",
    "\n",
    "print(color.BOLD + \"Given one stock index:\" + color.END)\n",
    "interact(one_stock, Symbol = indexes, start = Start, end = End, confidence = (0,1,0.05), normal = True)\n",
    "\n",
    "print(color.BOLD + \"Given two stock indexes:\" + color.END)\n",
    "interact(two_stock, Symbol_1 = indexes, Symbol_2 = sorted(indexes,reverse=True), start = Start, end = End, confidence = (0,1,0.05))\n",
    "\n",
    "print(color.BOLD + f'\\nTesting Monday effect' + color.END, )\n",
    "interact(monday_effect, Symbol = indexes, start = Start, end = End)"
   ]
  },
  {
   "cell_type": "code",
   "execution_count": null,
   "metadata": {},
   "outputs": [],
   "source": []
  }
 ],
 "metadata": {
  "kernelspec": {
   "display_name": "Python 3",
   "language": "python",
   "name": "python3"
  },
  "language_info": {
   "codemirror_mode": {
    "name": "ipython",
    "version": 3
   },
   "file_extension": ".py",
   "mimetype": "text/x-python",
   "name": "python",
   "nbconvert_exporter": "python",
   "pygments_lexer": "ipython3",
   "version": "3.7.4"
  }
 },
 "nbformat": 4,
 "nbformat_minor": 2
}
